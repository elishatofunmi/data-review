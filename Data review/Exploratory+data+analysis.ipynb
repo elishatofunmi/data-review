{
 "cells": [
  {
   "cell_type": "code",
   "execution_count": 1,
   "metadata": {
    "collapsed": true
   },
   "outputs": [],
   "source": [
    "from sklearn.datasets import load_iris\n",
    "iris = load_iris()"
   ]
  },
  {
   "cell_type": "code",
   "execution_count": 2,
   "metadata": {},
   "outputs": [
    {
     "name": "stdout",
     "output_type": "stream",
     "text": [
      "your pandas version is: 0.20.1\n"
     ]
    }
   ],
   "source": [
    "import numpy as np\n",
    "import pandas as pd\n",
    "print ('your pandas version is: %s' % pd.__version__)"
   ]
  },
  {
   "cell_type": "code",
   "execution_count": 3,
   "metadata": {},
   "outputs": [
    {
     "name": "stdout",
     "output_type": "stream",
     "text": [
      "Your numpy version is: 1.12.1\n"
     ]
    }
   ],
   "source": [
    "print ('Your numpy version is: %s' % np.__version__)"
   ]
  },
  {
   "cell_type": "code",
   "execution_count": 4,
   "metadata": {
    "collapsed": true
   },
   "outputs": [],
   "source": [
    "iris_narray = iris.data\n",
    "iris_dataframe = pd.DataFrame(iris.data, columns = iris.feature_names)"
   ]
  },
  {
   "cell_type": "code",
   "execution_count": 5,
   "metadata": {
    "collapsed": true
   },
   "outputs": [],
   "source": [
    "iris_dataframe['group'] = pd.Series([iris.target_names[k] for k in iris.target], dtype = 'category')"
   ]
  },
  {
   "cell_type": "code",
   "execution_count": 6,
   "metadata": {},
   "outputs": [
    {
     "name": "stdout",
     "output_type": "stream",
     "text": [
      "sepal length (cm)    5.843333\n",
      "sepal width (cm)     3.054000\n",
      "petal length (cm)    3.758667\n",
      "petal width (cm)     1.198667\n",
      "dtype: float64\n"
     ]
    }
   ],
   "source": [
    "# using pandas you can quickly compute both mean and medians\n",
    "print (iris_dataframe.mean(numeric_only = True))"
   ]
  },
  {
   "cell_type": "code",
   "execution_count": 7,
   "metadata": {},
   "outputs": [
    {
     "name": "stdout",
     "output_type": "stream",
     "text": [
      "sepal length (cm)    5.80\n",
      "sepal width (cm)     3.00\n",
      "petal length (cm)    4.35\n",
      "petal width (cm)     1.30\n",
      "dtype: float64\n"
     ]
    }
   ],
   "source": [
    "print (iris_dataframe.median(numeric_only = True))"
   ]
  },
  {
   "cell_type": "code",
   "execution_count": 8,
   "metadata": {
    "collapsed": true
   },
   "outputs": [],
   "source": [
    "# When checking for central tendency measures, you should:\n",
    "# 1. verify wheather means are zero\n",
    "# 2. check whether they are different from each other.\n",
    "# 3. Notice whether the median is different from the mean"
   ]
  },
  {
   "cell_type": "code",
   "execution_count": 9,
   "metadata": {},
   "outputs": [
    {
     "name": "stdout",
     "output_type": "stream",
     "text": [
      "standard deviation of iris_dataframe is:  sepal length (cm)    0.828066\n",
      "sepal width (cm)     0.433594\n",
      "petal length (cm)    1.764420\n",
      "petal width (cm)     0.763161\n",
      "dtype: float64\n",
      "\n",
      "variance of iris_dataframe is:  sepal length (cm)    0.909981\n",
      "sepal width (cm)     0.658479\n",
      "petal length (cm)    1.328315\n",
      "petal width (cm)     0.873591\n",
      "dtype: float64\n"
     ]
    }
   ],
   "source": [
    "# measuring variance and range\n",
    "import math\n",
    "square = math.sqrt\n",
    "std = iris_dataframe.std()\n",
    "variance = np.sqrt(std)\n",
    "print ('standard deviation of iris_dataframe is: ',std)\n",
    "print ('')\n",
    "print ('variance of iris_dataframe is: ',variance)"
   ]
  },
  {
   "cell_type": "code",
   "execution_count": 10,
   "metadata": {
    "collapsed": true
   },
   "outputs": [],
   "source": [
    "# The variance is a good indicator of wheather a mean is a suitable\n",
    "# indicator of the variable distribution"
   ]
  },
  {
   "cell_type": "code",
   "execution_count": 11,
   "metadata": {},
   "outputs": [
    {
     "name": "stdout",
     "output_type": "stream",
     "text": [
      "sepal length (cm)    3.6\n",
      "sepal width (cm)     2.4\n",
      "petal length (cm)    5.9\n",
      "petal width (cm)     2.4\n",
      "dtype: float64\n"
     ]
    }
   ],
   "source": [
    "# maximum and minimum value in our data\n",
    "print (iris_dataframe.max(numeric_only = True)-iris_dataframe.min(numeric_only = True))"
   ]
  },
  {
   "cell_type": "code",
   "execution_count": 12,
   "metadata": {},
   "outputs": [
    {
     "name": "stdout",
     "output_type": "stream",
     "text": [
      "      sepal length (cm)  sepal width (cm)  petal length (cm)  petal width (cm)\n",
      "0.00                4.3               2.0               1.00               0.1\n",
      "0.25                5.1               2.8               1.60               0.3\n",
      "0.50                5.8               3.0               4.35               1.3\n",
      "0.75                6.4               3.3               5.10               1.8\n"
     ]
    }
   ],
   "source": [
    "# working with percentiles\n",
    "print (iris_dataframe.quantile(np.array([0,.25,.5,.75])))"
   ]
  },
  {
   "cell_type": "code",
   "execution_count": 13,
   "metadata": {
    "collapsed": true
   },
   "outputs": [],
   "source": [
    "# Skewness: defines the asymmetry of data with respect to the mean.\n",
    "# if the skew is negative, the left tail is too long and the mass of the\n",
    "# the observations are on the right side of the distribution. If it is \n",
    "# positive, it is excactly the opposite.\n",
    "\n",
    "# Kurtosis: shows whether the data distribution, especially the peak\n",
    "# and tails, are of the right shape. If the kurtosis is above zero, the \n",
    "# distribution has a marked peak. If it is below zero, the distribution is \n",
    "# is too flat instead\n",
    "\n",
    "# when performing the kurtosis and skewness test, you determine whether\n",
    "# the p-value is less than or equal to 0.05. If so, you have to reject normality."
   ]
  },
  {
   "cell_type": "code",
   "execution_count": 14,
   "metadata": {},
   "outputs": [
    {
     "name": "stdout",
     "output_type": "stream",
     "text": [
      "Kurtosis -1.395 z-score -14.811 p-value 0.000\n"
     ]
    }
   ],
   "source": [
    "from scipy.stats import kurtosis, kurtosistest\n",
    "k = kurtosis(iris_dataframe['petal length (cm)'])\n",
    "rscore, pvalue = kurtosistest(iris_dataframe['petal length (cm)'])\n",
    "print ('Kurtosis %0.3f z-score %0.3f p-value %0.3f' %(k,rscore, pvalue))"
   ]
  },
  {
   "cell_type": "code",
   "execution_count": 15,
   "metadata": {},
   "outputs": [
    {
     "name": "stdout",
     "output_type": "stream",
     "text": [
      "Skewness -0.272 z-score -1.398 p-value 0.162\n"
     ]
    }
   ],
   "source": [
    "from scipy.stats import skew, skewtest\n",
    "s = skew(iris_dataframe['petal length (cm)'])\n",
    "rscore , pvalue = skewtest(iris_dataframe['petal length (cm)'])\n",
    "print ('Skewness %0.3f z-score %0.3f p-value %0.3f' % (s, rscore, pvalue))"
   ]
  },
  {
   "cell_type": "code",
   "execution_count": 20,
   "metadata": {},
   "outputs": [
    {
     "ename": "SyntaxError",
     "evalue": "invalid syntax (<ipython-input-20-cbc4f94feb8c>, line 15)",
     "output_type": "error",
     "traceback": [
      "\u001b[1;36m  File \u001b[1;32m\"<ipython-input-20-cbc4f94feb8c>\"\u001b[1;36m, line \u001b[1;32m15\u001b[0m\n\u001b[1;33m    pd.qcut(iris_dataframe.ix[:,2], [0,.25,.5,.75,1])\u001b[0m\n\u001b[1;37m     ^\u001b[0m\n\u001b[1;31mSyntaxError\u001b[0m\u001b[1;31m:\u001b[0m invalid syntax\n"
     ]
    }
   ],
   "source": [
    "# to divide into binss according to specific intervals, the pandas\n",
    "# dataframe features two useful functions cut and qcut that can\n",
    "# transfrom a metric variable into a qualitative one.\n",
    "\n",
    "# cut:expects a series of edge values used to cut the measurement\n",
    "# or an integer number of groups used to cut the variables into \n",
    "# equal-width bins.\n",
    "\n",
    "# qcut: expects a series percentiles used to cut the variable\n",
    "\n",
    "# check out binning and discretization\n",
    "import pandas as pd\n",
    "iris_binned = pd.concat([pd.qcut(iris_dataframe.ix[:,0], [0,0.25,.5,.75,1]),\n",
    "                        pd.qcut(iris_dataframe.ix[:,1], [0,.25,.5,.75,1])\n",
    "                        pd.qcut(iris_dataframe.ix[:,2], [0,.25,.5,.75,1])\n",
    "                        pd.qcut(iris_dataframe.ix[:,3], [0,.25,.5,.75,1])\n",
    "                        ], join = 'outer', axis = 1)"
   ]
  },
  {
   "cell_type": "code",
   "execution_count": 21,
   "metadata": {
    "collapsed": true
   },
   "outputs": [],
   "source": [
    "boxplots = iris_dataframe.boxplot(return_type = 'axes')"
   ]
  },
  {
   "cell_type": "code",
   "execution_count": 25,
   "metadata": {},
   "outputs": [
    {
     "data": {
      "text/plain": [
       "<bound method _AxesBase.add_image of <matplotlib.axes._subplots.AxesSubplot object at 0x000000000A38C2B0>>"
      ]
     },
     "execution_count": 25,
     "metadata": {},
     "output_type": "execute_result"
    }
   ],
   "source": [
    "boxplots.add_image\n"
   ]
  },
  {
   "cell_type": "code",
   "execution_count": 26,
   "metadata": {},
   "outputs": [
    {
     "name": "stdout",
     "output_type": "stream",
     "text": [
      "var1 3.113 var2 3.113179\n"
     ]
    }
   ],
   "source": [
    "# performing t-tests after boxplots\n",
    "from scipy.stats import ttest_ind\n",
    "group0 = iris_dataframe['group'] == 'setosa'\n",
    "group1 = iris_dataframe['group'] == 'versicolor'\n",
    "group2 = iris_dataframe['group'] == 'virginica'\n",
    "print ('var1 %0.3f var2 %03f' % (iris_dataframe['petal length (cm)'].var(),\n",
    "                                iris_dataframe['petal length (cm)'].var()))\n"
   ]
  },
  {
   "cell_type": "code",
   "execution_count": 27,
   "metadata": {},
   "outputs": [
    {
     "name": "stdout",
     "output_type": "stream",
     "text": [
      "t statistics -3.206 p-value 0.002\n"
     ]
    }
   ],
   "source": [
    "# calculating variance \n",
    "t, pvalue= ttest_ind(iris_dataframe['sepal width (cm)'][group1],\n",
    "                    iris_dataframe['sepal width (cm)'][group2], axis = 0, equal_var = False)\n",
    "print ('t statistics %0.3f p-value %0.3f' %(t, pvalue))"
   ]
  },
  {
   "cell_type": "code",
   "execution_count": 29,
   "metadata": {},
   "outputs": [
    {
     "name": "stdout",
     "output_type": "stream",
     "text": [
      "one-way ANOVA F-value 47.364 p-value 0.000\n"
     ]
    }
   ],
   "source": [
    "from scipy.stats import f_oneway\n",
    "f, pvalue = f_oneway(iris_dataframe['sepal width (cm)'][group0],\n",
    "                    iris_dataframe['sepal width (cm)'][group1],\n",
    "                    iris_dataframe['sepal width (cm)'][group2])\n",
    "print (\"one-way ANOVA F-value %0.3f p-value %0.3f\" % (f, pvalue))"
   ]
  },
  {
   "cell_type": "code",
   "execution_count": 30,
   "metadata": {},
   "outputs": [
    {
     "ename": "IndexError",
     "evalue": "only integers, slices (`:`), ellipsis (`...`), numpy.newaxis (`None`) and integer or boolean arrays are valid indices",
     "output_type": "error",
     "traceback": [
      "\u001b[1;31m---------------------------------------------------------------------------\u001b[0m",
      "\u001b[1;31mIndexError\u001b[0m                                Traceback (most recent call last)",
      "\u001b[1;32m<ipython-input-30-dd4ef2361dec>\u001b[0m in \u001b[0;36m<module>\u001b[1;34m()\u001b[0m\n\u001b[0;32m      1\u001b[0m \u001b[1;32mfrom\u001b[0m \u001b[0mpandas\u001b[0m\u001b[1;33m.\u001b[0m\u001b[0mtools\u001b[0m\u001b[1;33m.\u001b[0m\u001b[0mplotting\u001b[0m \u001b[1;32mimport\u001b[0m \u001b[0mparallel_coordinates\u001b[0m\u001b[1;33m\u001b[0m\u001b[0m\n\u001b[1;32m----> 2\u001b[1;33m \u001b[0miris_dataframe\u001b[0m\u001b[1;33m[\u001b[0m\u001b[1;34m'labels'\u001b[0m\u001b[1;33m]\u001b[0m \u001b[1;33m=\u001b[0m \u001b[1;33m[\u001b[0m\u001b[0miris\u001b[0m\u001b[1;33m.\u001b[0m\u001b[0mtarget_names\u001b[0m\u001b[1;33m[\u001b[0m\u001b[0mk\u001b[0m\u001b[1;33m]\u001b[0m \u001b[1;32mfor\u001b[0m \u001b[0mk\u001b[0m \u001b[1;32min\u001b[0m \u001b[0miris_dataframe\u001b[0m\u001b[1;33m[\u001b[0m\u001b[1;34m'group'\u001b[0m\u001b[1;33m]\u001b[0m\u001b[1;33m]\u001b[0m\u001b[1;33m\u001b[0m\u001b[0m\n\u001b[0m\u001b[0;32m      3\u001b[0m \u001b[0mpll\u001b[0m \u001b[1;33m=\u001b[0m \u001b[0mparallel_coordinates\u001b[0m\u001b[1;33m(\u001b[0m\u001b[0miris_dataframe\u001b[0m\u001b[1;33m,\u001b[0m \u001b[1;34m'labels'\u001b[0m\u001b[1;33m)\u001b[0m\u001b[1;33m\u001b[0m\u001b[0m\n",
      "\u001b[1;32m<ipython-input-30-dd4ef2361dec>\u001b[0m in \u001b[0;36m<listcomp>\u001b[1;34m(.0)\u001b[0m\n\u001b[0;32m      1\u001b[0m \u001b[1;32mfrom\u001b[0m \u001b[0mpandas\u001b[0m\u001b[1;33m.\u001b[0m\u001b[0mtools\u001b[0m\u001b[1;33m.\u001b[0m\u001b[0mplotting\u001b[0m \u001b[1;32mimport\u001b[0m \u001b[0mparallel_coordinates\u001b[0m\u001b[1;33m\u001b[0m\u001b[0m\n\u001b[1;32m----> 2\u001b[1;33m \u001b[0miris_dataframe\u001b[0m\u001b[1;33m[\u001b[0m\u001b[1;34m'labels'\u001b[0m\u001b[1;33m]\u001b[0m \u001b[1;33m=\u001b[0m \u001b[1;33m[\u001b[0m\u001b[0miris\u001b[0m\u001b[1;33m.\u001b[0m\u001b[0mtarget_names\u001b[0m\u001b[1;33m[\u001b[0m\u001b[0mk\u001b[0m\u001b[1;33m]\u001b[0m \u001b[1;32mfor\u001b[0m \u001b[0mk\u001b[0m \u001b[1;32min\u001b[0m \u001b[0miris_dataframe\u001b[0m\u001b[1;33m[\u001b[0m\u001b[1;34m'group'\u001b[0m\u001b[1;33m]\u001b[0m\u001b[1;33m]\u001b[0m\u001b[1;33m\u001b[0m\u001b[0m\n\u001b[0m\u001b[0;32m      3\u001b[0m \u001b[0mpll\u001b[0m \u001b[1;33m=\u001b[0m \u001b[0mparallel_coordinates\u001b[0m\u001b[1;33m(\u001b[0m\u001b[0miris_dataframe\u001b[0m\u001b[1;33m,\u001b[0m \u001b[1;34m'labels'\u001b[0m\u001b[1;33m)\u001b[0m\u001b[1;33m\u001b[0m\u001b[0m\n",
      "\u001b[1;31mIndexError\u001b[0m: only integers, slices (`:`), ellipsis (`...`), numpy.newaxis (`None`) and integer or boolean arrays are valid indices"
     ]
    }
   ],
   "source": [
    "from pandas.tools.plotting import parallel_coordinates\n",
    "iris_dataframe['labels'] = [iris.target_names[k] for k in iris_dataframe['group']]\n",
    "pll = parallel_coordinates(iris_dataframe, 'labels')"
   ]
  },
  {
   "cell_type": "code",
   "execution_count": null,
   "metadata": {
    "collapsed": true
   },
   "outputs": [],
   "source": []
  }
 ],
 "metadata": {
  "kernelspec": {
   "display_name": "Python 3",
   "language": "python",
   "name": "python3"
  }
 },
 "nbformat": 4,
 "nbformat_minor": 2
}
