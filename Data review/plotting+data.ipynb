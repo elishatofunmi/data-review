{
 "cells": [
  {
   "cell_type": "code",
   "execution_count": 1,
   "metadata": {
    "collapsed": true
   },
   "outputs": [],
   "source": [
    "import pandas as pd\n",
    "import matplotlib.pyplot as plt"
   ]
  },
  {
   "cell_type": "code",
   "execution_count": 2,
   "metadata": {},
   "outputs": [
    {
     "data": {
      "image/png": "[encoded data removed]",
      "text/plain": [
       "<matplotlib.figure.Figure at 0x9946e48>"
      ]
     },
     "metadata": {},
     "output_type": "display_data"
    }
   ],
   "source": [
    "values = [5,8,9,10,4,7]\n",
    "colors = ['b', 'g','r','c','m','y']\n",
    "labels = ['A', 'B','C','D','E','F']\n",
    "explode = (0,0.2,0,0,0,0)\n",
    "plt.pie(values, colors = colors, labels = labels, explode = explode, autopct = '%1.1f%%', counterclock = False, shadow = True)\n",
    "plt.title('Values')\n",
    "plt.show()"
   ]
  },
  {
   "cell_type": "code",
   "execution_count": 3,
   "metadata": {
    "collapsed": true
   },
   "outputs": [
    {
     "name": "stdout",
     "output_type": "stream",
     "text": [
      "Help on function pie in module matplotlib.pyplot:\n",
      "\n",
      "pie(x, explode=None, labels=None, colors=None, autopct=None, pctdistance=0.6, shadow=False, labeldistance=1.1, startangle=None, radius=None, counterclock=True, wedgeprops=None, textprops=None, center=(0, 0), frame=False, hold=None, data=None)\n",
      "    Plot a pie chart.\n",
      "    \n",
      "    Make a pie chart of array *x*.  The fractional area of each\n",
      "    wedge is given by ``x/sum(x)``.  If ``sum(x) <= 1``, then the\n",
      "    values of x give the fractional area directly and the array\n",
      "    will not be normalized.  The wedges are plotted\n",
      "    counterclockwise, by default starting from the x-axis.\n",
      "    \n",
      "    Parameters\n",
      "    ----------\n",
      "    x : array-like\n",
      "        The input array used to make the pie chart.\n",
      "    \n",
      "    explode : array-like, optional, default: None\n",
      "        If not *None*, is a ``len(x)`` array which specifies the\n",
      "        fraction of the radius with which to offset each wedge.\n",
      "    \n",
      "    labels : list, optional, default: None\n",
      "        A sequence of strings providing the labels for each wedge\n",
      "    \n",
      "    colors : array-like, optional, default: None\n",
      "        A sequence of matplotlib color args through which the pie chart\n",
      "        will cycle.  If `None`, will use the colors in the currently\n",
      "        active cycle.\n",
      "    \n",
      "    autopct : None (default), string, or function, optional\n",
      "        If not *None*, is a string or function used to label the wedges\n",
      "        with their numeric value.  The label will be placed inside the\n",
      "        wedge.  If it is a format string, the label will be ``fmt%pct``.\n",
      "        If it is a function, it will be called.\n",
      "    \n",
      "    pctdistance : float, optional, default: 0.6\n",
      "        The ratio between the center of each pie slice and the\n",
      "        start of the text generated by *autopct*.  Ignored if\n",
      "        *autopct* is *None*.\n",
      "    \n",
      "    shadow : bool, optional, default: False\n",
      "        Draw a shadow beneath the pie.\n",
      "    \n",
      "    labeldistance : float, optional, default: 1.1\n",
      "        The radial distance at which the pie labels are drawn\n",
      "    \n",
      "    startangle : float, optional, default: None\n",
      "        If not *None*, rotates the start of the pie chart by *angle*\n",
      "        degrees counterclockwise from the x-axis.\n",
      "    \n",
      "    radius : float, optional, default: None\n",
      "        The radius of the pie, if *radius* is *None* it will be set to 1.\n",
      "    \n",
      "    counterclock : bool, optional, default: True\n",
      "        Specify fractions direction, clockwise or counterclockwise.\n",
      "    \n",
      "    wedgeprops : dict, optional, default: None\n",
      "        Dict of arguments passed to the wedge objects making the pie.\n",
      "        For example, you can pass in``wedgeprops = {'linewidth': 3}``\n",
      "        to set the width of the wedge border lines equal to 3.\n",
      "        For more details, look at the doc/arguments of the wedge object.\n",
      "        By default ``clip_on=False``.\n",
      "    \n",
      "    textprops : dict, optional, default: None\n",
      "        Dict of arguments to pass to the text objects.\n",
      "    \n",
      "    center :  list of float, optional, default: (0, 0)\n",
      "        Center position of the chart. Takes value (0, 0) or is a\n",
      "        sequence of 2 scalars.\n",
      "    \n",
      "    frame : bool, optional, default: False\n",
      "        Plot axes frame with the chart if true.\n",
      "    \n",
      "    Returns\n",
      "    -------\n",
      "    patches : list\n",
      "        A sequence of :class:`matplotlib.patches.Wedge` instances\n",
      "    \n",
      "    texts : list\n",
      "        A is a list of the label :class:`matplotlib.text.Text` instances.\n",
      "    \n",
      "    autotexts : list\n",
      "        A is a list of :class:`~matplotlib.text.Text` instances for the\n",
      "        numeric labels. Is returned only if parameter *autopct* is\n",
      "        not *None*.\n",
      "    \n",
      "    Notes\n",
      "    -----\n",
      "    The pie chart will probably look best if the figure and axes are\n",
      "    square, or the Axes aspect is equal.\n",
      "    \n",
      "    Examples\n",
      "    --------\n",
      "    .. plot:: mpl_examples/pie_and_polar_charts/pie_demo_features.py\n",
      "    \n",
      "    .. note::\n",
      "        In addition to the above described arguments, this function can take a\n",
      "        **data** keyword argument. If such a **data** argument is given, the\n",
      "        following arguments are replaced by **data[<arg>]**:\n",
      "    \n",
      "        * All arguments with the following names: 'colors', 'explode', 'labels', 'x'.\n",
      "\n"
     ]
    }
   ],
   "source": [
    "help (plt.pie)"
   ]
  },
  {
   "cell_type": "code",
   "execution_count": 5,
   "metadata": {},
   "outputs": [
    {
     "data": {
      "image/png": "[encoded data removed]",
      "text/plain": [
       "<matplotlib.figure.Figure at 0x9946a20>"
      ]
     },
     "metadata": {},
     "output_type": "display_data"
    }
   ],
   "source": [
    "# creating comparisons with bar charts\n",
    "values = [5,8,9,10,4,7]\n",
    "widths = [0.7,0.8, 0.7,0.7,0.7,0.7]\n",
    "colors = ['b','r','b','b','b','b']\n",
    "plt.bar(range(0,6), values, width = widths, color = colors, align = 'center')\n",
    "plt.show()"
   ]
  },
  {
   "cell_type": "code",
   "execution_count": 7,
   "metadata": {},
   "outputs": [
    {
     "data": {
      "image/png": "[encoded data removed]",
      "text/plain": [
       "<matplotlib.figure.Figure at 0x6fb8da0>"
      ]
     },
     "metadata": {},
     "output_type": "display_data"
    }
   ],
   "source": [
    "# showing distribution using histograms\n",
    "import numpy as np\n",
    "import matplotlib.pyplot as plt\n",
    "\n",
    "x = 20 * np.random.randn(10000)\n",
    "\n",
    "plt.hist(x, 25, range = (-50, 50), histtype = 'stepfilled', align = 'mid', color = 'g',\n",
    "       label = 'Test Data')\n",
    "\n",
    "plt.legend()\n",
    "plt.title('Step Filled Histogram')\n",
    "plt.show()"
   ]
  },
  {
   "cell_type": "code",
   "execution_count": 9,
   "metadata": {},
   "outputs": [
    {
     "data": {
      "text/plain": [
       "10000"
      ]
     },
     "execution_count": 9,
     "metadata": {},
     "output_type": "execute_result"
    }
   ],
   "source": [
    "np.count_nonzero(np.random.randn(10000))"
   ]
  },
  {
   "cell_type": "code",
   "execution_count": 13,
   "metadata": {},
   "outputs": [
    {
     "data": {
      "image/png": "[encoded data removed]",
      "text/plain": [
       "<matplotlib.figure.Figure at 0x9946320>"
      ]
     },
     "metadata": {},
     "output_type": "display_data"
    }
   ],
   "source": [
    "# Depicting groups using box plots\n",
    "spread = 100 * np.random.rand(100)\n",
    "center = np.ones(50) * 50\n",
    "flier_high = 100 * np.random.rand(10) + 100\n",
    "flier_low = -100 * np.random.rand(10)\n",
    "\n",
    "data = np.concatenate((spread, center, flier_high, flier_low))\n",
    "plt.boxplot(data, sym = 'gx', widths = .75, notch = True)\n",
    "plt.show()"
   ]
  },
  {
   "cell_type": "code",
   "execution_count": 14,
   "metadata": {},
   "outputs": [
    {
     "data": {
      "image/png": "[encoded data removed]",
      "text/plain": [
       "<matplotlib.figure.Figure at 0x9996da0>"
      ]
     },
     "metadata": {},
     "output_type": "display_data"
    }
   ],
   "source": [
    "# seeing data patterns using scatter plots\n",
    "x1 = 5 * np.random.rand(40)\n",
    "x2 = 5 * np.random.rand(40) + 25\n",
    "x3 = 25 * np.random.rand(20)\n",
    "x = np.concatenate((x1, x2, x3))\n",
    "\n",
    "y1 = 5 * np.random.rand(40)\n",
    "y2 = 5 * np.random.rand(40) + 25\n",
    "y3 = 25 * np.random.rand(20)\n",
    "y = np.concatenate((y1, y2, y3))\n",
    "\n",
    "plt.scatter(x, y, s = [100], marker = '^', c = 'm')\n",
    "plt.show()"
   ]
  },
  {
   "cell_type": "code",
   "execution_count": 27,
   "metadata": {},
   "outputs": [
    {
     "name": "stdout",
     "output_type": "stream",
     "text": [
      "{'Time': Timestamp('2015-07-01 00:00:00', freq='D'), 'Sales': 9}\n",
      "Sales                      9\n",
      "Time     2015-07-01 00:00:00\n",
      "dtype: object\n",
      "Jul 01\n",
      "             Time Sales\n",
      "Jul 01 2015-07-01     9\n",
      "{'Time': Timestamp('2015-07-02 00:00:00', freq='D'), 'Sales': 26}\n",
      "Sales                     26\n",
      "Time     2015-07-02 00:00:00\n",
      "dtype: object\n",
      "Jul 02\n",
      "             Time Sales\n",
      "Jul 01 2015-07-01     9\n",
      "Jul 02 2015-07-02    26\n",
      "{'Time': Timestamp('2015-07-03 00:00:00', freq='D'), 'Sales': 6}\n",
      "Sales                      6\n",
      "Time     2015-07-03 00:00:00\n",
      "dtype: object\n",
      "Jul 03\n",
      "             Time Sales\n",
      "Jul 01 2015-07-01     9\n",
      "Jul 02 2015-07-02    26\n",
      "Jul 03 2015-07-03     6\n",
      "{'Time': Timestamp('2015-07-04 00:00:00', freq='D'), 'Sales': 33}\n",
      "Sales                     33\n",
      "Time     2015-07-04 00:00:00\n",
      "dtype: object\n",
      "Jul 04\n",
      "             Time Sales\n",
      "Jul 01 2015-07-01     9\n",
      "Jul 02 2015-07-02    26\n",
      "Jul 03 2015-07-03     6\n",
      "Jul 04 2015-07-04    33\n",
      "{'Time': Timestamp('2015-07-05 00:00:00', freq='D'), 'Sales': 4}\n",
      "Sales                      4\n",
      "Time     2015-07-05 00:00:00\n",
      "dtype: object\n",
      "Jul 05\n",
      "             Time Sales\n",
      "Jul 01 2015-07-01     9\n",
      "Jul 02 2015-07-02    26\n",
      "Jul 03 2015-07-03     6\n",
      "Jul 04 2015-07-04    33\n",
      "Jul 05 2015-07-05     4\n",
      "{'Time': Timestamp('2015-07-06 00:00:00', freq='D'), 'Sales': 27}\n",
      "Sales                     27\n",
      "Time     2015-07-06 00:00:00\n",
      "dtype: object\n",
      "Jul 06\n",
      "             Time Sales\n",
      "Jul 01 2015-07-01     9\n",
      "Jul 02 2015-07-02    26\n",
      "Jul 03 2015-07-03     6\n",
      "Jul 04 2015-07-04    33\n",
      "Jul 05 2015-07-05     4\n",
      "Jul 06 2015-07-06    27\n",
      "{'Time': Timestamp('2015-07-07 00:00:00', freq='D'), 'Sales': 3}\n",
      "Sales                      3\n",
      "Time     2015-07-07 00:00:00\n",
      "dtype: object\n",
      "Jul 07\n",
      "             Time Sales\n",
      "Jul 01 2015-07-01     9\n",
      "Jul 02 2015-07-02    26\n",
      "Jul 03 2015-07-03     6\n",
      "Jul 04 2015-07-04    33\n",
      "Jul 05 2015-07-05     4\n",
      "Jul 06 2015-07-06    27\n",
      "Jul 07 2015-07-07     3\n",
      "{'Time': Timestamp('2015-07-08 00:00:00', freq='D'), 'Sales': 8}\n",
      "Sales                      8\n",
      "Time     2015-07-08 00:00:00\n",
      "dtype: object\n",
      "Jul 08\n",
      "             Time Sales\n",
      "Jul 01 2015-07-01     9\n",
      "Jul 02 2015-07-02    26\n",
      "Jul 03 2015-07-03     6\n",
      "Jul 04 2015-07-04    33\n",
      "Jul 05 2015-07-05     4\n",
      "Jul 06 2015-07-06    27\n",
      "Jul 07 2015-07-07     3\n",
      "Jul 08 2015-07-08     8\n",
      "{'Time': Timestamp('2015-07-09 00:00:00', freq='D'), 'Sales': 44}\n",
      "Sales                     44\n",
      "Time     2015-07-09 00:00:00\n",
      "dtype: object\n",
      "Jul 09\n",
      "             Time Sales\n",
      "Jul 01 2015-07-01     9\n",
      "Jul 02 2015-07-02    26\n",
      "Jul 03 2015-07-03     6\n",
      "Jul 04 2015-07-04    33\n",
      "Jul 05 2015-07-05     4\n",
      "Jul 06 2015-07-06    27\n",
      "Jul 07 2015-07-07     3\n",
      "Jul 08 2015-07-08     8\n",
      "Jul 09 2015-07-09    44\n",
      "{'Time': Timestamp('2015-07-10 00:00:00', freq='D'), 'Sales': 30}\n",
      "Sales                     30\n",
      "Time     2015-07-10 00:00:00\n",
      "dtype: object\n",
      "Jul 10\n",
      "             Time Sales\n",
      "Jul 01 2015-07-01     9\n",
      "Jul 02 2015-07-02    26\n",
      "Jul 03 2015-07-03     6\n",
      "Jul 04 2015-07-04    33\n",
      "Jul 05 2015-07-05     4\n",
      "Jul 06 2015-07-06    27\n",
      "Jul 07 2015-07-07     3\n",
      "Jul 08 2015-07-08     8\n",
      "Jul 09 2015-07-09    44\n",
      "Jul 10 2015-07-10    30\n"
     ]
    },
    {
     "data": {
      "image/png": "[encoded data removed]",
      "text/plain": [
       "<matplotlib.figure.Figure at 0x6f30dd8>"
      ]
     },
     "metadata": {},
     "output_type": "display_data"
    }
   ],
   "source": [
    "import datetime as dt\n",
    "\n",
    "df = pd.DataFrame(columns = ('Time', 'Sales'))\n",
    "start_date = dt.datetime(2015, 7,1)\n",
    "end_date = dt.datetime(2015, 7, 10)\n",
    "daterange = pd.date_range(start_date, end_date)\n",
    "\n",
    "for single_date in daterange:\n",
    "    row = dict(zip(['Time','Sales'],[single_date,int(50 *np.random.rand(1))]))\n",
    "    print (row)\n",
    "    row_s = pd.Series(row)\n",
    "    print (row_s)\n",
    "    row_s.name = single_date.strftime('%b %d')\n",
    "    print(row_s.name)\n",
    "    df = df.append(row_s)\n",
    "    print (df)\n",
    "df.loc['Jul 01':'Jul 07', ['Time', 'Sales']].plot()\n",
    "plt.ylim(0,50)\n",
    "plt.xlabel('Sales Date')\n",
    "plt.ylabel('Sale Value')\n",
    "plt.title('plotting Time')\n",
    "plt.show()"
   ]
  },
  {
   "cell_type": "code",
   "execution_count": 18,
   "metadata": {},
   "outputs": [
    {
     "name": "stdout",
     "output_type": "stream",
     "text": [
      "DatetimeIndex(['2015-07-01', '2015-07-02', '2015-07-03', '2015-07-04',\n",
      "               '2015-07-05', '2015-07-06', '2015-07-07', '2015-07-08',\n",
      "               '2015-07-09', '2015-07-10'],\n",
      "              dtype='datetime64[ns]', freq='D')\n"
     ]
    }
   ],
   "source": [
    "daterange = pd.date_range(start_date, end_date)\n",
    "print (daterange)"
   ]
  },
  {
   "cell_type": "code",
   "execution_count": 22,
   "metadata": {},
   "outputs": [
    {
     "data": {
      "text/plain": [
       "array([ 3.55769785])"
      ]
     },
     "execution_count": 22,
     "metadata": {},
     "output_type": "execute_result"
    }
   ],
   "source": [
    "50* np.random.rand(1)"
   ]
  },
  {
   "cell_type": "code",
   "execution_count": 26,
   "metadata": {},
   "outputs": [
    {
     "name": "stdout",
     "output_type": "stream",
     "text": [
      "Sales                     25\n",
      "Time     2015-07-10 00:00:00\n",
      "Name: Jul 10, dtype: object\n"
     ]
    }
   ],
   "source": [
    "print (row_s)"
   ]
  },
  {
   "cell_type": "code",
   "execution_count": 28,
   "metadata": {},
   "outputs": [
    {
     "name": "stdout",
     "output_type": "stream",
     "text": [
      "Help on _LocIndexer in module pandas.core.indexing object:\n",
      "\n",
      "class _LocIndexer(_LocationIndexer)\n",
      " |  Purely label-location based indexer for selection by label.\n",
      " |  \n",
      " |  ``.loc[]`` is primarily label based, but may also be used with a\n",
      " |  boolean array.\n",
      " |  \n",
      " |  Allowed inputs are:\n",
      " |  \n",
      " |  - A single label, e.g. ``5`` or ``'a'``, (note that ``5`` is\n",
      " |    interpreted as a *label* of the index, and **never** as an\n",
      " |    integer position along the index).\n",
      " |  - A list or array of labels, e.g. ``['a', 'b', 'c']``.\n",
      " |  - A slice object with labels, e.g. ``'a':'f'`` (note that contrary\n",
      " |    to usual python slices, **both** the start and the stop are included!).\n",
      " |  - A boolean array.\n",
      " |  - A ``callable`` function with one argument (the calling Series, DataFrame\n",
      " |    or Panel) and that returns valid output for indexing (one of the above)\n",
      " |  \n",
      " |  ``.loc`` will raise a ``KeyError`` when the items are not found.\n",
      " |  \n",
      " |  See more at :ref:`Selection by Label <indexing.label>`\n",
      " |  \n",
      " |  Method resolution order:\n",
      " |      _LocIndexer\n",
      " |      _LocationIndexer\n",
      " |      _NDFrameIndexer\n",
      " |      builtins.object\n",
      " |  \n",
      " |  Methods inherited from _LocationIndexer:\n",
      " |  \n",
      " |  __getitem__(self, key)\n",
      " |  \n",
      " |  ----------------------------------------------------------------------\n",
      " |  Methods inherited from _NDFrameIndexer:\n",
      " |  \n",
      " |  __call__(self, axis=None)\n",
      " |      Call self as a function.\n",
      " |  \n",
      " |  __init__(self, obj, name)\n",
      " |      Initialize self.  See help(type(self)) for accurate signature.\n",
      " |  \n",
      " |  __iter__(self)\n",
      " |  \n",
      " |  __setitem__(self, key, value)\n",
      " |  \n",
      " |  ----------------------------------------------------------------------\n",
      " |  Data descriptors inherited from _NDFrameIndexer:\n",
      " |  \n",
      " |  __dict__\n",
      " |      dictionary for instance variables (if defined)\n",
      " |  \n",
      " |  __weakref__\n",
      " |      list of weak references to the object (if defined)\n",
      " |  \n",
      " |  ----------------------------------------------------------------------\n",
      " |  Data and other attributes inherited from _NDFrameIndexer:\n",
      " |  \n",
      " |  axis = None\n",
      "\n"
     ]
    }
   ],
   "source": [
    "help (df.loc)"
   ]
  },
  {
   "cell_type": "code",
   "execution_count": 2,
   "metadata": {},
   "outputs": [],
   "source": [
    "import pandas as pd\n",
    "import numpy as np\n",
    "import matplotlib.pyplot as plt"
   ]
  },
  {
   "cell_type": "code",
   "execution_count": 5,
   "metadata": {},
   "outputs": [
    {
     "name": "stdout",
     "output_type": "stream",
     "text": [
      "[  31.04323659   83.10606829    4.26433549   25.31549418   63.61336602\n",
      "   91.61286874   52.08706389   50.18971901   41.06634234   68.87354341\n",
      "   64.29614075   15.56009797   94.24430679   38.30366089   27.96252391\n",
      "   16.81856085   40.1869117    26.51941885    5.38389425   98.12303565\n",
      "   72.79968745   94.99704507   89.58992681   56.2239015     4.15965456\n",
      "   94.19770415   21.47336689   24.02068183   36.71341029   23.20245772\n",
      "   48.12970904    1.55404916   88.12848991   77.21369362   80.47116169\n",
      "   26.38071456   85.7005943    64.08347606    7.68780806   29.95841047\n",
      "   64.80539234   60.62124962   98.85226782   56.55495138   33.9250201\n",
      "   58.43293647   85.79114979   23.03261027   19.66647908   48.34745267\n",
      "   67.57570204   90.98891086   94.06236164   18.50449555   33.35468707\n",
      "   34.98897499   63.26192997   24.23081742    9.77765988   53.99699045\n",
      "   17.45132765   22.53180591   66.76124031   92.91451062   57.75940601\n",
      "    2.73361516   81.95682932   60.57603803   31.69093376   63.83025434\n",
      "   73.06908636   75.18625915   54.06319198   65.28588249   83.37968449\n",
      "   48.42901028   75.36625598   75.30253612   56.71500547   98.43158955\n",
      "   42.60225959   29.11147996   37.16526964   61.67248827   96.46985523\n",
      "   24.17895258   51.35902191   99.99003226    2.0409778    75.14616416\n",
      "   48.139676     58.89426287   61.34704535   83.43400989   76.15050282\n",
      "   45.04947411   96.50250839   10.26280778    3.36306891   18.72462119\n",
      "   50.           50.           50.           50.           50.           50.\n",
      "   50.           50.           50.           50.           50.           50.\n",
      "   50.           50.           50.           50.           50.           50.\n",
      "   50.           50.           50.           50.           50.           50.\n",
      "   50.           50.           50.           50.           50.           50.\n",
      "   50.           50.           50.           50.           50.           50.\n",
      "   50.           50.           50.           50.           50.           50.\n",
      "   50.           50.           50.           50.           50.           50.\n",
      "   50.           50.          120.34131234  171.332377    192.41892247\n",
      "  186.83890475  188.73311817  100.87143135  139.61884972  194.00644293\n",
      "  182.19486168  199.66839768  -83.46099886  -57.00726572  -95.71574676\n",
      "  -55.15721561  -75.7290451   -98.1700489   -48.59038968  -90.15345344\n",
      "  -94.97504957  -12.87764583]\n"
     ]
    },
    {
     "data": {
      "image/png": "[encoded data removed]",
      "text/plain": [
       "<matplotlib.figure.Figure at 0x4f08a90>"
      ]
     },
     "metadata": {},
     "output_type": "display_data"
    }
   ],
   "source": [
    "spread = 100 * np.random.rand(100)\n",
    "center = np.ones(50) * 50\n",
    "flier_high = 100 * np.random.rand(10) + 100\n",
    "\n",
    "flier_low = -100 * np.random.rand(10)\n",
    "data = np.concatenate((spread, center, flier_high, flier_low))\n",
    "print (data)\n",
    "\n",
    "\n",
    "plt.boxplot(data, sym = 'gx', widths = .75, notch = True)\n",
    "plt.show()\n"
   ]
  },
  {
   "cell_type": "code",
   "execution_count": 9,
   "metadata": {},
   "outputs": [
    {
     "data": {
      "text/plain": [
       "array([1, 2, 3, 3, 4, 5])"
      ]
     },
     "execution_count": 9,
     "metadata": {},
     "output_type": "execute_result"
    }
   ],
   "source": [
    "np.concatenate((np.array([1,2,3]), np.array([3,4,5])))"
   ]
  },
  {
   "cell_type": "code",
   "execution_count": 11,
   "metadata": {},
   "outputs": [],
   "source": [
    "from sklearn.datasets import load_boston"
   ]
  },
  {
   "cell_type": "code",
   "execution_count": 12,
   "metadata": {},
   "outputs": [
    {
     "name": "stdout",
     "output_type": "stream",
     "text": [
      "(506, 13) (506,)\n"
     ]
    }
   ],
   "source": [
    "boston = load_boston()\n",
    "x, y = boston.data, boston.target\n",
    "print (x.shape, y.shape)"
   ]
  },
  {
   "cell_type": "code",
   "execution_count": 13,
   "metadata": {},
   "outputs": [
    {
     "data": {
      "text/plain": [
       "dict_keys(['data', 'target', 'feature_names', 'DESCR'])"
      ]
     },
     "execution_count": 13,
     "metadata": {},
     "output_type": "execute_result"
    }
   ],
   "source": [
    "boston.keys()"
   ]
  },
  {
   "cell_type": "code",
   "execution_count": 19,
   "metadata": {},
   "outputs": [
    {
     "data": {
      "text/plain": [
       "array(['CRIM', 'ZN', 'INDUS', 'CHAS', 'NOX', 'RM', 'AGE', 'DIS', 'RAD',\n",
       "       'TAX', 'PTRATIO', 'B', 'LSTAT'], \n",
       "      dtype='<U7')"
      ]
     },
     "execution_count": 19,
     "metadata": {},
     "output_type": "execute_result"
    }
   ],
   "source": [
    "boston['feature_names']"
   ]
  },
  {
   "cell_type": "code",
   "execution_count": 20,
   "metadata": {},
   "outputs": [
    {
     "name": "stdout",
     "output_type": "stream",
     "text": [
      "[ -1.07170557e-01   4.63952195e-02   2.08602395e-02   2.68856140e+00\n",
      "  -1.77957587e+01   3.80475246e+00   7.51061703e-04  -1.47575880e+00\n",
      "   3.05655038e-01  -1.23293463e-02  -9.53463555e-01   9.39251272e-03\n",
      "  -5.25466633e-01]\n"
     ]
    }
   ],
   "source": [
    "from sklearn.linear_model import LinearRegression\n",
    "hypothesis = LinearRegression(normalize = True)\n",
    "hypothesis.fit(x,y)\n",
    "print (hypothesis.coef_)"
   ]
  },
  {
   "cell_type": "code",
   "execution_count": 24,
   "metadata": {
    "scrolled": true
   },
   "outputs": [
    {
     "name": "stdout",
     "output_type": "stream",
     "text": [
      "[ 25.8972784]\n"
     ]
    },
    {
     "name": "stderr",
     "output_type": "stream",
     "text": [
      "C:\\Users\\ACER\\Anaconda3\\lib\\site-packages\\sklearn\\utils\\validation.py:395: DeprecationWarning: Passing 1d arrays as data is deprecated in 0.17 and will raise ValueError in 0.19. Reshape your data either using X.reshape(-1, 1) if your data has a single feature or X.reshape(1, -1) if it contains a single sample.\n",
      "  DeprecationWarning)\n"
     ]
    },
    {
     "data": {
      "text/plain": [
       "warnings.catch_warnings"
      ]
     },
     "execution_count": 24,
     "metadata": {},
     "output_type": "execute_result"
    }
   ],
   "source": [
    "new_observation= np.array([1,0,1,0,0.5,7,59,6,3,200,20,350,4], dtype = float)\n",
    "import warnings\n",
    "\n",
    "print (hypothesis.predict(new_observation))\n",
    "warnings.catch_warnings"
   ]
  },
  {
   "cell_type": "code",
   "execution_count": 30,
   "metadata": {},
   "outputs": [
    {
     "name": "stdout",
     "output_type": "stream",
     "text": [
      "Help on module warnings:\n",
      "\n",
      "NAME\n",
      "    warnings - Python part of the warnings subsystem.\n",
      "\n",
      "CLASSES\n",
      "    builtins.object\n",
      "        catch_warnings\n",
      "    \n",
      "    class catch_warnings(builtins.object)\n",
      "     |  A context manager that copies and restores the warnings filter upon\n",
      "     |  exiting the context.\n",
      "     |  \n",
      "     |  The 'record' argument specifies whether warnings should be captured by a\n",
      "     |  custom implementation of warnings.showwarning() and be appended to a list\n",
      "     |  returned by the context manager. Otherwise None is returned by the context\n",
      "     |  manager. The objects appended to the list are arguments whose attributes\n",
      "     |  mirror the arguments to showwarning().\n",
      "     |  \n",
      "     |  The 'module' argument is to specify an alternative module to the module\n",
      "     |  named 'warnings' and imported under that name. This argument is only useful\n",
      "     |  when testing the warnings module itself.\n",
      "     |  \n",
      "     |  Methods defined here:\n",
      "     |  \n",
      "     |  __enter__(self)\n",
      "     |  \n",
      "     |  __exit__(self, *exc_info)\n",
      "     |  \n",
      "     |  __init__(self, *, record=False, module=None)\n",
      "     |      Specify whether to record warnings and if an alternative module\n",
      "     |      should be used other than sys.modules['warnings'].\n",
      "     |      \n",
      "     |      For compatibility with Python 3.0, please consider all arguments to be\n",
      "     |      keyword-only.\n",
      "     |  \n",
      "     |  __repr__(self)\n",
      "     |      Return repr(self).\n",
      "     |  \n",
      "     |  ----------------------------------------------------------------------\n",
      "     |  Data descriptors defined here:\n",
      "     |  \n",
      "     |  __dict__\n",
      "     |      dictionary for instance variables (if defined)\n",
      "     |  \n",
      "     |  __weakref__\n",
      "     |      list of weak references to the object (if defined)\n",
      "\n",
      "FUNCTIONS\n",
      "    filterwarnings(action, message='', category=<class 'Warning'>, module='', lineno=0, append=False)\n",
      "        Insert an entry into the list of warnings filters (at the front).\n",
      "        \n",
      "        'action' -- one of \"error\", \"ignore\", \"always\", \"default\", \"module\",\n",
      "                    or \"once\"\n",
      "        'message' -- a regex that the warning message must match\n",
      "        'category' -- a class that the warning must be a subclass of\n",
      "        'module' -- a regex that the module name must match\n",
      "        'lineno' -- an integer line number, 0 matches all warnings\n",
      "        'append' -- if true, append to the list of filters\n",
      "    \n",
      "    formatwarning(message, category, filename, lineno, line=None)\n",
      "        Function to format a warning the standard way.\n",
      "    \n",
      "    resetwarnings()\n",
      "        Clear the list of warning filters, so that no filters are active.\n",
      "    \n",
      "    showwarning(message, category, filename, lineno, file=None, line=None)\n",
      "        Hook to write a warning to a file; replace if you like.\n",
      "    \n",
      "    simplefilter(action, category=<class 'Warning'>, lineno=0, append=False)\n",
      "        Insert a simple entry into the list of warnings filters (at the front).\n",
      "        \n",
      "        A simple filter matches all modules and messages.\n",
      "        'action' -- one of \"error\", \"ignore\", \"always\", \"default\", \"module\",\n",
      "                    or \"once\"\n",
      "        'category' -- a class that the warning must be a subclass of\n",
      "        'lineno' -- an integer line number, 0 matches all warnings\n",
      "        'append' -- if true, append to the list of filters\n",
      "    \n",
      "    warn(...)\n",
      "        Issue a warning, or maybe ignore it or raise an exception.\n",
      "    \n",
      "    warn_explicit(...)\n",
      "        Low-level inferface to warnings functionality.\n",
      "\n",
      "DATA\n",
      "    __all__ = ['warn', 'warn_explicit', 'showwarning', 'formatwarning', 'f...\n",
      "\n",
      "FILE\n",
      "    c:\\users\\acer\\anaconda3\\lib\\warnings.py\n",
      "\n",
      "\n"
     ]
    }
   ],
   "source": [
    "help (warnings)"
   ]
  },
  {
   "cell_type": "code",
   "execution_count": 36,
   "metadata": {},
   "outputs": [
    {
     "name": "stdout",
     "output_type": "stream",
     "text": [
      "[ 0.01116872  0.          0.01979472  0.          0.23662551  0.65893849\n",
      "  0.57775489  0.44288845  0.08695652  0.02480916  0.78723404  0.88173887\n",
      "  0.06263797]\n"
     ]
    },
    {
     "name": "stderr",
     "output_type": "stream",
     "text": [
      "C:\\Users\\ACER\\Anaconda3\\lib\\site-packages\\sklearn\\preprocessing\\data.py:356: DeprecationWarning: Passing 1d arrays as data is deprecated in 0.17 and will raise ValueError in 0.19. Reshape your data either using X.reshape(-1, 1) if your data has a single feature or X.reshape(1, -1) if it contains a single sample.\n",
      "  warnings.warn(DEPRECATION_MSG_1D, DeprecationWarning)\n"
     ]
    }
   ],
   "source": [
    "from sklearn.preprocessing import MinMaxScaler\n",
    "scaler = MinMaxScaler(feature_range = (0,1))\n",
    "scaler.fit(x)\n",
    "print (scaler.transform(new_observation))"
   ]
  },
  {
   "cell_type": "code",
   "execution_count": 38,
   "metadata": {},
   "outputs": [],
   "source": [
    "# hashing tricks\n",
    "# ignore warnings"
   ]
  },
  {
   "cell_type": "code",
   "execution_count": 42,
   "metadata": {},
   "outputs": [
    {
     "data": {
      "text/plain": [
       "-2626015983436510706"
      ]
     },
     "execution_count": 42,
     "metadata": {},
     "output_type": "execute_result"
    }
   ],
   "source": [
    "hash('Python')"
   ]
  },
  {
   "cell_type": "code",
   "execution_count": 44,
   "metadata": {},
   "outputs": [
    {
     "data": {
      "text/plain": [
       "-8934559401359104469"
      ]
     },
     "execution_count": 44,
     "metadata": {},
     "output_type": "execute_result"
    }
   ],
   "source": [
    "hash('elisha')"
   ]
  },
  {
   "cell_type": "code",
   "execution_count": 46,
   "metadata": {},
   "outputs": [
    {
     "data": {
      "text/plain": [
       "126"
      ]
     },
     "execution_count": 46,
     "metadata": {},
     "output_type": "execute_result"
    }
   ],
   "source": [
    "abs(hash('python')) % 1000"
   ]
  },
  {
   "cell_type": "code",
   "execution_count": 47,
   "metadata": {
    "collapsed": true
   },
   "outputs": [],
   "source": [
    "def hashing_trick(input_string, vector_size = 20):\n",
    "    feature_vector = [0] * vector_size\n",
    "    for word in input_string.split(' '):\n",
    "        index = abs(hash(word)) % vector_size\n",
    "        feature_vector[index] = 1\n",
    "    return feature_vector\n",
    "\n"
   ]
  },
  {
   "cell_type": "code",
   "execution_count": 48,
   "metadata": {},
   "outputs": [
    {
     "data": {
      "text/plain": [
       "[0, 0, 0, 0, 0, 0, 1, 0, 1, 0, 1, 0, 0, 0, 0, 0, 0, 1, 0, 0]"
      ]
     },
     "execution_count": 48,
     "metadata": {},
     "output_type": "execute_result"
    }
   ],
   "source": [
    "hashing_trick(input_string = 'Python for data science', vector_size = 20)"
   ]
  },
  {
   "cell_type": "code",
   "execution_count": 49,
   "metadata": {},
   "outputs": [
    {
     "data": {
      "text/plain": [
       "['python', 'for', 'data', 'science']"
      ]
     },
     "execution_count": 49,
     "metadata": {},
     "output_type": "execute_result"
    }
   ],
   "source": [
    "'python for data science'.split(' ')"
   ]
  },
  {
   "cell_type": "code",
   "execution_count": 50,
   "metadata": {},
   "outputs": [
    {
     "data": {
      "text/plain": [
       "[0, 0, 0, 0, 1, 0, 1, 0, 1, 1, 0, 0, 0, 0, 0, 0, 0, 0, 0, 0]"
      ]
     },
     "execution_count": 50,
     "metadata": {},
     "output_type": "execute_result"
    }
   ],
   "source": [
    "hashing_trick(input_string = 'Python for machine learning', vector_size = 20)"
   ]
  },
  {
   "cell_type": "code",
   "execution_count": 53,
   "metadata": {},
   "outputs": [],
   "source": [
    "#import scipy as sp\n",
    "from scipy.sparse import csc_matrix"
   ]
  },
  {
   "cell_type": "code",
   "execution_count": 55,
   "metadata": {},
   "outputs": [
    {
     "name": "stdout",
     "output_type": "stream",
     "text": [
      "  (0, 0)\t1\n",
      "  (0, 5)\t1\n",
      "  (0, 16)\t1\n",
      "  (0, 18)\t1\n"
     ]
    }
   ],
   "source": [
    "print (csc_matrix([1,0,0,0,0,1,0,0,0,0,0,0,0,0,0,0,1,0,1,0]))"
   ]
  },
  {
   "cell_type": "code",
   "execution_count": 57,
   "metadata": {},
   "outputs": [],
   "source": [
    "import sklearn.feature_extraction.text as txt\n",
    "one_hot_enconder = txt.CountVectorizer()\n",
    "one_hot_enconded = one_hot_enconder.fit_transform(['Python for data science', 'Python for machine learning'])\n"
   ]
  },
  {
   "cell_type": "code",
   "execution_count": 63,
   "metadata": {},
   "outputs": [
    {
     "data": {
      "text/plain": [
       "<2x20 sparse matrix of type '<class 'numpy.float64'>'\n",
       "\twith 8 stored elements in Compressed Sparse Row format>"
      ]
     },
     "execution_count": 63,
     "metadata": {},
     "output_type": "execute_result"
    }
   ],
   "source": [
    "sklearn_hashing_trick = txt.HashingVectorizer(n_features = 20, binary = True, norm = None)\n",
    "text_vector = sklearn_hashing_trick.transform(['Python for data science', 'Python for machine learning'])\n",
    "text_vector"
   ]
  },
  {
   "cell_type": "code",
   "execution_count": 64,
   "metadata": {},
   "outputs": [
    {
     "data": {
      "text/plain": [
       "<1x20 sparse matrix of type '<class 'numpy.float64'>'\n",
       "\twith 4 stored elements in Compressed Sparse Row format>"
      ]
     },
     "execution_count": 64,
     "metadata": {},
     "output_type": "execute_result"
    }
   ],
   "source": [
    "sklearn_hashing_trick.transform(['New text has arrived'])"
   ]
  },
  {
   "cell_type": "code",
   "execution_count": 70,
   "metadata": {},
   "outputs": [
    {
     "name": "stdout",
     "output_type": "stream",
     "text": [
      "10 loops, best of 3: 134 ms per loop\n"
     ]
    }
   ],
   "source": [
    "# %timeit and cell magic %%timeit\n",
    "# %timeit calculates the best performance time for an instruction\n",
    "# %%timeit calculates the best time performance for all the instructions\n",
    "# in a cell\n",
    "ne = []\n",
    "%timeit ne = [k for k in range(10**6)]\n"
   ]
  },
  {
   "cell_type": "code",
   "execution_count": 73,
   "metadata": {},
   "outputs": [
    {
     "name": "stdout",
     "output_type": "stream",
     "text": [
      "1 loop, best of 3: 251 ms per loop\n"
     ]
    }
   ],
   "source": [
    "%%timeit limit = 10**6\n",
    "l = list()\n",
    "for k in range(limit):\n",
    "    l.append(k)"
   ]
  },
  {
   "cell_type": "code",
   "execution_count": 74,
   "metadata": {
    "collapsed": true
   },
   "outputs": [],
   "source": [
    "import sklearn.feature_extraction.text as txt\n",
    "sklearn_hashing_trick = txt.HashingVectorizer(n_features = 20, binary = True, norm = None)\n",
    "enconder = txt.CountVectorizer()\n",
    "texts = ['Python for data science', 'Python for machine learning']"
   ]
  },
  {
   "cell_type": "code",
   "execution_count": 75,
   "metadata": {},
   "outputs": [
    {
     "name": "stdout",
     "output_type": "stream",
     "text": [
      "1000 loops, best of 3: 1.57 ms per loop\n"
     ]
    }
   ],
   "source": [
    "%timeit enconded = enconder.fit_transform(texts)"
   ]
  },
  {
   "cell_type": "code",
   "execution_count": 78,
   "metadata": {},
   "outputs": [
    {
     "name": "stdout",
     "output_type": "stream",
     "text": [
      "1000 loops, best of 3: 275 µs per loop\n"
     ]
    }
   ],
   "source": [
    "%timeit hashing = sklearn_hashing_trick.transform(texts)"
   ]
  },
  {
   "cell_type": "code",
   "execution_count": 84,
   "metadata": {},
   "outputs": [
    {
     "ename": "ModuleNotFoundError",
     "evalue": "No module named 'memory_profiler'",
     "output_type": "error",
     "traceback": [
      "\u001b[1;31m---------------------------------------------------------------------------\u001b[0m",
      "\u001b[1;31mModuleNotFoundError\u001b[0m                       Traceback (most recent call last)",
      "\u001b[1;32m<ipython-input-84-476896d5af29>\u001b[0m in \u001b[0;36m<module>\u001b[1;34m()\u001b[0m\n\u001b[1;32m----> 1\u001b[1;33m \u001b[1;32mimport\u001b[0m \u001b[0mmemory_profiler\u001b[0m\u001b[1;33m\u001b[0m\u001b[0m\n\u001b[0m\u001b[0;32m      2\u001b[0m \u001b[0mget_ipython\u001b[0m\u001b[1;33m(\u001b[0m\u001b[1;33m)\u001b[0m\u001b[1;33m.\u001b[0m\u001b[0mmagic\u001b[0m\u001b[1;33m(\u001b[0m\u001b[1;34m'load_ext memory_profiler'\u001b[0m\u001b[1;33m)\u001b[0m\u001b[1;33m\u001b[0m\u001b[0m\n\u001b[0;32m      3\u001b[0m \u001b[0mhashing\u001b[0m \u001b[1;33m=\u001b[0m \u001b[0msklearn_hashing_trick\u001b[0m\u001b[1;33m.\u001b[0m\u001b[0mtransform\u001b[0m\u001b[1;33m(\u001b[0m\u001b[0mtexts\u001b[0m\u001b[1;33m)\u001b[0m\u001b[1;33m\u001b[0m\u001b[0m\n\u001b[0;32m      4\u001b[0m \u001b[0mget_ipython\u001b[0m\u001b[1;33m(\u001b[0m\u001b[1;33m)\u001b[0m\u001b[1;33m.\u001b[0m\u001b[0mmagic\u001b[0m\u001b[1;33m(\u001b[0m\u001b[1;34m'memit dense_hashing = hashing.toarray()'\u001b[0m\u001b[1;33m)\u001b[0m\u001b[1;33m\u001b[0m\u001b[0m\n",
      "\u001b[1;31mModuleNotFoundError\u001b[0m: No module named 'memory_profiler'"
     ]
    }
   ],
   "source": [
    "import memory_profiler\n",
    "%load_ext memory_profiler\n",
    "hashing = sklearn_hashing_trick.transform(texts)\n",
    "%memit dense_hashing = hashing.toarray()"
   ]
  },
  {
   "cell_type": "code",
   "execution_count": null,
   "metadata": {
    "collapsed": true
   },
   "outputs": [],
   "source": []
  }
 ],
 "metadata": {
  "kernelspec": {
   "display_name": "Python 3",
   "language": "python",
   "name": "python3"
  },
  "language_info": {
   "codemirror_mode": {
    "name": "ipython",
    "version": 3
   },
   "file_extension": ".py",
   "mimetype": "text/x-python",
   "name": "python",
   "nbconvert_exporter": "python",
   "pygments_lexer": "ipython3",
   "version": "3.6.1"
  }
 },
 "nbformat": 4,
 "nbformat_minor": 2
}
