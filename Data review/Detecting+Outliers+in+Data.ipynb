{
 "cells": [
  {
   "cell_type": "code",
   "execution_count": 1,
   "metadata": {},
   "outputs": [
    {
     "name": "stdout",
     "output_type": "stream",
     "text": [
      "Mean: 0.026 Median: 0.032 Variance: 1.109\n"
     ]
    }
   ],
   "source": [
    "# This simple example can display the effect (on a small scale)\n",
    "# of a single outlier with respect to more than one thousand regular expression.\n",
    "\n",
    "import numpy as np\n",
    "from scipy.stats.stats import pearsonr\n",
    "np.random.seed(101)\n",
    "normal = np.random.normal(loc = 0.0, scale = 1.0, size = 1000)"
   ]
  },
  {
   "cell_type": "code",
   "execution_count": 2,
   "metadata": {},
   "outputs": [
    {
     "name": "stdout",
     "output_type": "stream",
     "text": [
      "Mean: 0.074 Median: 0.032 Variance: 3.597\n",
      "Pearson's correlation coefficient: 0.619 p-value: 0.000\n"
     ]
    }
   ],
   "source": [
    "# Now we change a single value by inserting an outlying value\n",
    "\n",
    "outlying = normal.copy()\n",
    "outlying[0] = 50.0\n",
    "print ('Mean: %0.3f Median: %0.3f Variance: %0.3f' % (np.mean(outlying), np.median(outlying),\n",
    "                                                     np.var(outlying)))\n",
    "print (\"Pearson\\'s correlation coefficient: %0.3f p-value: %0.3f\" % pearsonr(normal, outlying))"
   ]
  },
  {
   "cell_type": "code",
   "execution_count": 3,
   "metadata": {
    "collapsed": true
   },
   "outputs": [],
   "source": [
    "from sklearn.datasets import load_diabetes\n",
    "diabetes = load_diabetes()\n",
    "x,y = diabetes.data, diabetes.target"
   ]
  },
  {
   "cell_type": "code",
   "execution_count": 6,
   "metadata": {},
   "outputs": [
    {
     "name": "stdout",
     "output_type": "stream",
     "text": [
      "           0      1      2      3      4      5      6      7      8      9\n",
      "count 442.00 442.00 442.00 442.00 442.00 442.00 442.00 442.00 442.00 442.00\n",
      "mean   -0.00   0.00  -0.00   0.00  -0.00   0.00  -0.00   0.00  -0.00  -0.00\n",
      "std     0.05   0.05   0.05   0.05   0.05   0.05   0.05   0.05   0.05   0.05\n",
      "min    -0.11  -0.04  -0.09  -0.11  -0.13  -0.12  -0.10  -0.08  -0.13  -0.14\n",
      "25%    -0.04  -0.04  -0.03  -0.04  -0.03  -0.03  -0.04  -0.04  -0.03  -0.03\n",
      "50%     0.01  -0.04  -0.01  -0.01  -0.00  -0.00  -0.01  -0.00  -0.00  -0.00\n",
      "75%     0.04   0.05   0.03   0.04   0.03   0.03   0.03   0.03   0.03   0.03\n",
      "max     0.11   0.05   0.17   0.13   0.15   0.20   0.18   0.19   0.13   0.14\n"
     ]
    }
   ],
   "source": [
    "import pandas as pd\n",
    "pd.options.display.float_format = '{:.2f}'.format\n",
    "df = pd.DataFrame(x)\n",
    "print (df.describe())"
   ]
  },
  {
   "cell_type": "code",
   "execution_count": 16,
   "metadata": {},
   "outputs": [
    {
     "name": "stdout",
     "output_type": "stream",
     "text": [
      "Axes(0.125,0.125;0.775x0.755)\n"
     ]
    },
    {
     "data": {
      "image/png": "[encoded data removed]",
      "text/plain": [
       "<matplotlib.figure.Figure at 0xc01f3c8>"
      ]
     },
     "metadata": {},
     "output_type": "display_data"
    }
   ],
   "source": [
    "# using box plot\n",
    "import matplotlib.pyplot as plt\n",
    "box_plots = df.boxplot()\n",
    "print (box_plots)\n",
    "plt.show()"
   ]
  },
  {
   "cell_type": "code",
   "execution_count": 21,
   "metadata": {},
   "outputs": [
    {
     "name": "stdout",
     "output_type": "stream",
     "text": [
      "        0     1     2     3     4     5     6     7     8     9\n",
      "58   0.04 -0.04 -0.06  0.04  0.01 -0.06  0.18 -0.08 -0.00 -0.05\n",
      "123  0.01  0.05  0.03 -0.00  0.15  0.20 -0.06  0.19  0.02  0.07\n",
      "216  0.01  0.05  0.04  0.05  0.05  0.07 -0.07  0.15  0.05  0.05\n",
      "230 -0.04  0.05  0.07 -0.06  0.15  0.16  0.00  0.07  0.05  0.07\n",
      "256 -0.05 -0.04  0.16 -0.05 -0.03 -0.02 -0.05  0.03  0.03  0.01\n",
      "260  0.04 -0.04 -0.01 -0.06  0.01 -0.03  0.15 -0.08 -0.08 -0.02\n",
      "261  0.05 -0.04 -0.04  0.10  0.04 -0.03  0.18 -0.08 -0.01  0.02\n",
      "269  0.01 -0.04 -0.03 -0.03  0.04 -0.01  0.16 -0.08 -0.01 -0.04\n",
      "322  0.02  0.05  0.06  0.06  0.02 -0.04 -0.09  0.16  0.13  0.08\n",
      "336 -0.02 -0.04  0.09 -0.04  0.09  0.09 -0.06  0.15  0.08  0.05\n",
      "367 -0.01  0.05  0.17  0.01  0.03  0.03 -0.02  0.03  0.03  0.03\n",
      "441 -0.05 -0.04 -0.07 -0.08  0.08  0.03  0.17 -0.04 -0.00  0.00\n"
     ]
    }
   ],
   "source": [
    "# leveraging on the Gaussian distribution\n",
    "\n",
    "from sklearn.preprocessing import StandardScaler\n",
    "Xs = StandardScaler().fit_transform(x)\n",
    "o_idx = np.where(np.abs(Xs) > 3)\n",
    "\n",
    "# .any(1) method will avoid duplicating\n",
    "print (df[(np.abs(Xs) > 3).any(1)])"
   ]
  },
  {
   "cell_type": "code",
   "execution_count": 22,
   "metadata": {
    "collapsed": true
   },
   "outputs": [],
   "source": [
    "# using principal component analysis"
   ]
  },
  {
   "cell_type": "code",
   "execution_count": 23,
   "metadata": {},
   "outputs": [
    {
     "name": "stdout",
     "output_type": "stream",
     "text": [
      "Variance explained by the first 2 components: 55.2%\n",
      "Variance explained by the last 2 components: 0.9%\n"
     ]
    }
   ],
   "source": [
    "from sklearn.decomposition import PCA\n",
    "from sklearn.preprocessing import scale\n",
    "from pandas.tools.plotting import scatter_matrix\n",
    "dim_reduction = PCA()\n",
    "Xc = dim_reduction.fit_transform(scale(x))\n",
    "print ('Variance explained by the first 2 components: %0.1f%%' \n",
    "      % sum(dim_reduction.explained_variance_ratio_[:2]*100))\n",
    "print ('Variance explained by the last 2 components: %0.1f%%' \n",
    "      % sum(dim_reduction.explained_variance_ratio_[-2:]*100))\n",
    "\n",
    "df = pd.DataFrame(Xc, columns = ['comp_'+ str(j+1) for j in range(10)])\n"
   ]
  },
  {
   "cell_type": "code",
   "execution_count": 24,
   "metadata": {
    "collapsed": true
   },
   "outputs": [],
   "source": [
    "first_two = df.plot(kind = 'scatter', x= 'comp_1', y = 'comp_2', c = 'DarkGray', s = 50)\n",
    "last_two = df.plot(kind = 'scatter', x= 'comp_9', y = 'comp_10', c = 'DarkGray', s= 50)"
   ]
  },
  {
   "cell_type": "code",
   "execution_count": 25,
   "metadata": {},
   "outputs": [
    {
     "data": {
      "image/png": "[encoded data removed]",
      "text/plain": [
       "<matplotlib.figure.Figure at 0xc3bc240>"
      ]
     },
     "metadata": {},
     "output_type": "display_data"
    },
    {
     "data": {
      "image/png": "[encoded data removed]",
      "text/plain": [
       "<matplotlib.figure.Figure at 0xc3bc208>"
      ]
     },
     "metadata": {},
     "output_type": "display_data"
    }
   ],
   "source": [
    "plt.show()"
   ]
  },
  {
   "cell_type": "code",
   "execution_count": 26,
   "metadata": {
    "collapsed": true
   },
   "outputs": [],
   "source": [
    "# using cluster analysis"
   ]
  },
  {
   "cell_type": "code",
   "execution_count": 29,
   "metadata": {
    "scrolled": true
   },
   "outputs": [
    {
     "name": "stdout",
     "output_type": "stream",
     "text": [
      "Counter({0: 414, -1: 28}) \n",
      "\n",
      "     comp_1  comp_2  comp_3  comp_4  comp_5  comp_6  comp_7  comp_8  comp_9  \\\n",
      "15     2.95    0.95   -1.98   -0.79    1.77   -1.05    1.38   -0.88    0.35   \n",
      "23     3.77   -1.76    1.09    0.72   -0.64    1.90    0.56    1.09    0.44   \n",
      "29    -0.36   -1.41    3.27   -0.67    0.05    0.97    0.96    1.10   -0.17   \n",
      "35    -0.70    1.88    1.36   -1.58    0.02    1.12   -0.04    2.12    0.32   \n",
      "78    -1.57   -1.29   -0.66    0.50   -1.64   -0.64    1.98   -0.23   -0.22   \n",
      "117    3.49    0.19    1.29    0.46   -0.80    1.71    0.84   -1.77    0.09   \n",
      "123    5.67    2.16   -2.83   -0.98    0.43    0.22   -1.25   -0.85    0.70   \n",
      "141    3.31   -0.02   -1.76    1.79   -0.94    1.92   -1.10   -0.77    0.64   \n",
      "161    5.13    1.23   -1.13    0.32    1.91    0.54   -0.07   -0.15    0.00   \n",
      "169    2.35    0.15   -0.13    1.19   -0.64    0.64    2.65   -0.31    0.22   \n",
      "230    3.93    2.59   -2.08    0.03    1.03    0.84   -1.40    1.38   -0.34   \n",
      "248    4.05    2.23   -1.18    1.33    1.02   -0.14    0.35   -0.92    0.23   \n",
      "251    4.15   -0.74   -0.73    1.13    1.74   -0.38    0.44    0.21    0.53   \n",
      "261   -1.30    2.40    3.81   -0.57    1.13    0.22    0.86   -0.27    0.80   \n",
      "276    1.90    3.18    0.79    0.45    0.89   -0.93    0.86    0.20   -0.36   \n",
      "321    4.64   -0.12    0.59    0.91   -1.64   -0.36    0.82   -1.09    0.90   \n",
      "322    4.52   -2.24   -0.14    0.85   -0.47    0.73    1.28    0.34    1.39   \n",
      "323    3.87   -0.69    0.26   -0.58   -0.97    0.76    1.79    0.36    0.69   \n",
      "336    4.07    1.13   -2.09    1.95   -0.71    0.26   -0.43    0.15    0.69   \n",
      "349   -1.53   -2.64   -1.94   -1.33   -1.07   -0.79    0.11   -0.77    0.19   \n",
      "352   -3.37   -0.12    1.20   -1.54    0.04    0.72    0.64    1.65    0.74   \n",
      "353    0.98    1.61   -1.16    1.14   -0.36    1.46    2.53    0.90   -0.02   \n",
      "367    2.72   -0.69    0.10    1.26    1.01   -0.94   -1.66    1.60    0.07   \n",
      "376    3.33    2.43   -1.49    1.05   -0.09   -0.89   -0.39   -0.05   -0.06   \n",
      "394    2.24   -1.13    0.51    1.54   -1.30   -0.12    2.28   -0.10    0.40   \n",
      "405    0.66   -3.94    1.79    0.87   -0.13   -1.97    0.09    0.77    0.14   \n",
      "422    1.76    0.95   -0.32    0.58    2.66   -0.66    0.04    1.12   -0.40   \n",
      "441   -1.90    3.98   -0.05   -0.22    0.60    1.65    0.25    1.19    0.73   \n",
      "\n",
      "     comp_10  \n",
      "15     -0.09  \n",
      "23      0.50  \n",
      "29     -0.03  \n",
      "35     -0.11  \n",
      "78     -0.09  \n",
      "117     0.04  \n",
      "123    -0.09  \n",
      "141    -0.12  \n",
      "161     0.08  \n",
      "169     0.50  \n",
      "230     0.05  \n",
      "248    -0.00  \n",
      "251     0.05  \n",
      "261    -0.15  \n",
      "276     0.04  \n",
      "321     0.09  \n",
      "322     0.38  \n",
      "323     0.40  \n",
      "336     0.01  \n",
      "349     0.04  \n",
      "352    -0.15  \n",
      "353     0.50  \n",
      "367    -0.03  \n",
      "376    -0.00  \n",
      "394     0.43  \n",
      "405    -0.08  \n",
      "422     0.01  \n",
      "441    -0.15  \n"
     ]
    },
    {
     "data": {
      "text/plain": [
       "Counter({-1: 28, 0: 414})"
      ]
     },
     "execution_count": 29,
     "metadata": {},
     "output_type": "execute_result"
    }
   ],
   "source": [
    "# using DBScan\n",
    "\n",
    "from sklearn.cluster import DBSCAN\n",
    "DB = DBSCAN(eps = 2.5, min_samples = 25)\n",
    "DB.fit(Xc)\n",
    "from collections import Counter\n",
    "print (Counter(DB.labels_), '\\n')\n",
    "print (df[DB.labels_ == -1])\n",
    "Counter({0:414, -1:28})"
   ]
  },
  {
   "cell_type": "code",
   "execution_count": 32,
   "metadata": {},
   "outputs": [],
   "source": [
    "import tkinter.filedialog"
   ]
  },
  {
   "cell_type": "code",
   "execution_count": 37,
   "metadata": {},
   "outputs": [],
   "source": [
    "import PyQt5"
   ]
  },
  {
   "cell_type": "code",
   "execution_count": 38,
   "metadata": {
    "scrolled": true
   },
   "outputs": [
    {
     "name": "stdout",
     "output_type": "stream",
     "text": [
      "Help on package PyQt5:\n",
      "\n",
      "NAME\n",
      "    PyQt5\n",
      "\n",
      "DESCRIPTION\n",
      "    # Copyright (c) 2016 Riverbank Computing Limited <info@riverbankcomputing.com>\n",
      "    # \n",
      "    # This file is part of PyQt5.\n",
      "    # \n",
      "    # This file may be used under the terms of the GNU General Public License\n",
      "    # version 3.0 as published by the Free Software Foundation and appearing in\n",
      "    # the file LICENSE included in the packaging of this file.  Please review the\n",
      "    # following information to ensure the GNU General Public License version 3.0\n",
      "    # requirements will be met: http://www.gnu.org/copyleft/gpl.html.\n",
      "    # \n",
      "    # If you do not wish to use this file under the terms of the GPL version 3.0\n",
      "    # then you may purchase a commercial license.  For more information contact\n",
      "    # info@riverbankcomputing.com.\n",
      "    # \n",
      "    # This file is provided AS IS with NO WARRANTY OF ANY KIND, INCLUDING THE\n",
      "    # WARRANTY OF DESIGN, MERCHANTABILITY AND FITNESS FOR A PARTICULAR PURPOSE.\n",
      "\n",
      "PACKAGE CONTENTS\n",
      "    Enginio\n",
      "    QAxContainer\n",
      "    Qt\n",
      "    QtBluetooth\n",
      "    QtCore\n",
      "    QtDBus\n",
      "    QtDesigner\n",
      "    QtGui\n",
      "    QtHelp\n",
      "    QtLocation\n",
      "    QtMultimedia\n",
      "    QtMultimediaWidgets\n",
      "    QtNetwork\n",
      "    QtOpenGL\n",
      "    QtPositioning\n",
      "    QtPrintSupport\n",
      "    QtQml\n",
      "    QtQuick\n",
      "    QtQuickWidgets\n",
      "    QtSensors\n",
      "    QtSerialPort\n",
      "    QtSql\n",
      "    QtSvg\n",
      "    QtTest\n",
      "    QtWebChannel\n",
      "    QtWebKit\n",
      "    QtWebKitWidgets\n",
      "    QtWebSockets\n",
      "    QtWidgets\n",
      "    QtWinExtras\n",
      "    QtXml\n",
      "    QtXmlPatterns\n",
      "    _QOpenGLFunctions_2_0\n",
      "    _QOpenGLFunctions_2_1\n",
      "    _QOpenGLFunctions_4_1_Core\n",
      "    uic (package)\n",
      "\n",
      "FILE\n",
      "    c:\\users\\acer\\anaconda3\\lib\\site-packages\\pyqt5\\__init__.py\n",
      "\n",
      "\n"
     ]
    }
   ],
   "source": [
    "help (PyQt5)"
   ]
  },
  {
   "cell_type": "code",
   "execution_count": 39,
   "metadata": {
    "collapsed": true
   },
   "outputs": [],
   "source": [
    "from PyQt5 import QtSensors"
   ]
  },
  {
   "cell_type": "code",
   "execution_count": 41,
   "metadata": {
    "collapsed": true
   },
   "outputs": [],
   "source": [
    "from PyQt5 import *"
   ]
  },
  {
   "cell_type": "code",
   "execution_count": 44,
   "metadata": {},
   "outputs": [],
   "source": [
    "from PyQt5 import QtHelp"
   ]
  },
  {
   "cell_type": "code",
   "execution_count": 46,
   "metadata": {},
   "outputs": [
    {
     "data": {
      "text/plain": [
       "'QHelpSearchEngine(QHelpEngineCore, parent: QObject = None)'"
      ]
     },
     "execution_count": 46,
     "metadata": {},
     "output_type": "execute_result"
    }
   ],
   "source": [
    "QtHelp.QHelpSearchEngine.__doc__"
   ]
  },
  {
   "cell_type": "code",
   "execution_count": 47,
   "metadata": {},
   "outputs": [
    {
     "ename": "NameError",
     "evalue": "name 'outlier_fraction' is not defined",
     "output_type": "error",
     "traceback": [
      "\u001b[1;31m---------------------------------------------------------------------------\u001b[0m",
      "\u001b[1;31mNameError\u001b[0m                                 Traceback (most recent call last)",
      "\u001b[1;32m<ipython-input-47-36fa62da5261>\u001b[0m in \u001b[0;36m<module>\u001b[1;34m()\u001b[0m\n\u001b[0;32m      1\u001b[0m \u001b[1;32mfrom\u001b[0m \u001b[0msklearn\u001b[0m \u001b[1;32mimport\u001b[0m \u001b[0msvm\u001b[0m\u001b[1;33m\u001b[0m\u001b[0m\n\u001b[0;32m      2\u001b[0m \u001b[0moutliers_fraction\u001b[0m \u001b[1;33m=\u001b[0m \u001b[1;36m0.01\u001b[0m\u001b[1;33m\u001b[0m\u001b[0m\n\u001b[1;32m----> 3\u001b[1;33m \u001b[0mnu_estimate\u001b[0m \u001b[1;33m=\u001b[0m \u001b[1;36m0.95\u001b[0m \u001b[1;33m*\u001b[0m \u001b[0moutlier_fraction\u001b[0m \u001b[1;33m+\u001b[0m \u001b[1;36m0.05\u001b[0m\u001b[1;33m\u001b[0m\u001b[0m\n\u001b[0m\u001b[0;32m      4\u001b[0m \u001b[0mauto_detection\u001b[0m \u001b[1;33m=\u001b[0m \u001b[0msvm\u001b[0m\u001b[1;33m.\u001b[0m\u001b[0mOneClassSVM\u001b[0m\u001b[1;33m(\u001b[0m\u001b[0mkernel\u001b[0m \u001b[1;33m=\u001b[0m \u001b[1;34m'rbf'\u001b[0m\u001b[1;33m,\u001b[0m \u001b[0mgamma\u001b[0m \u001b[1;33m=\u001b[0m \u001b[1;36m0.01\u001b[0m\u001b[1;33m,\u001b[0m \u001b[0mdegree\u001b[0m \u001b[1;33m=\u001b[0m \u001b[1;36m3\u001b[0m\u001b[1;33m,\u001b[0m \u001b[0mnu\u001b[0m \u001b[1;33m=\u001b[0m \u001b[0mnu_estimate\u001b[0m\u001b[1;33m)\u001b[0m\u001b[1;33m\u001b[0m\u001b[0m\n\u001b[0;32m      5\u001b[0m \u001b[0mauto_detection\u001b[0m\u001b[1;33m.\u001b[0m\u001b[0mfit\u001b[0m\u001b[1;33m(\u001b[0m\u001b[0mXc\u001b[0m\u001b[1;33m)\u001b[0m\u001b[1;33m\u001b[0m\u001b[0m\n",
      "\u001b[1;31mNameError\u001b[0m: name 'outlier_fraction' is not defined"
     ]
    }
   ],
   "source": [
    "from sklearn import svm\n",
    "outliers_fraction = 0.01 \n",
    "nu_estimate = 0.95 * outlier_fraction + 0.05\n",
    "auto_detection = svm.OneClassSVM(kernel = 'rbf', gamma = 0.01, degree = 3, nu = nu_estimate)\n",
    "auto_detection.fit(Xc)\n",
    "evaluation = auto_detection.predict(Xc)\n",
    "print (df[evaluation == -1])"
   ]
  },
  {
   "cell_type": "code",
   "execution_count": null,
   "metadata": {
    "collapsed": true
   },
   "outputs": [],
   "source": []
  }
 ],
 "metadata": {
  "kernelspec": {
   "display_name": "Python 3",
   "language": "python",
   "name": "python3"
  },
  "language_info": {
   "codemirror_mode": {
    "name": "ipython",
    "version": 3
   },
   "file_extension": ".py",
   "mimetype": "text/x-python",
   "name": "python",
   "nbconvert_exporter": "python",
   "pygments_lexer": "ipython3",
   "version": "3.6.1"
  }
 },
 "nbformat": 4,
 "nbformat_minor": 2
}
